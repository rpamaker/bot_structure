{
 "cells": [
  {
   "cell_type": "code",
   "execution_count": 2,
   "id": "05c74007-296e-4fd9-bff9-fe360635aa75",
   "metadata": {},
   "outputs": [],
   "source": [
    "*** Settings ***\n",
    "Documentation   Template robot main suite.\n",
    "Library         Collections \n",
    "Variables       MyVariables.py\n",
    "Resource        keywords.robot\n",
    "Library         ScrapingTiendaInglesa\n"
   ]
  },
  {
   "cell_type": "code",
   "execution_count": 3,
   "id": "a0f28c3c-cacf-4ca5-a727-37cc10ebc124",
   "metadata": {},
   "outputs": [
    {
     "data": {
      "application/vnd.jupyter.widget-view+json": {
       "model_id": "ef40eb3a63d64d2ba2e273e10636609f",
       "version_major": 2,
       "version_minor": 0
      },
      "text/plain": [
       "VBox(children=(HBox(children=(Button(description='Test Local Keyword', style=ButtonStyle()),)), Output()))"
      ]
     },
     "metadata": {},
     "output_type": "display_data"
    }
   ],
   "source": [
    "*** Keywords ***\n",
    "Test Local Keyword\n",
    "    Log    HolaMundo"
   ]
  },
  {
   "cell_type": "code",
   "execution_count": 4,
   "id": "2fe0261c-6a7f-4954-8bfc-761e98aa6534",
   "metadata": {},
   "outputs": [
    {
     "data": {
      "application/vnd.jupyter.widget-view+json": {
       "model_id": "57ec0fd8f2c74ba6b3b4b878a678d591",
       "version_major": 2,
       "version_minor": 0
      },
      "text/plain": [
       "VBox(children=(HBox(children=(Button(description='Test Ejecutar Funcion Python', style=ButtonStyle()),)), Outp…"
      ]
     },
     "metadata": {},
     "output_type": "display_data"
    }
   ],
   "source": [
    "*** Keywords ***\n",
    "Test Ejecutar Funcion Python\n",
    "    Open Local Browser    https://www.google.com/\n",
    "    Open Web"
   ]
  },
  {
   "cell_type": "code",
   "execution_count": 5,
   "id": "bfdc8333-44de-4635-a256-f4fc71ec94bb",
   "metadata": {},
   "outputs": [
    {
     "data": {
      "application/vnd.jupyter.widget-view+json": {
       "model_id": "9cd639db3ad94a5f91a002f19018b017",
       "version_major": 2,
       "version_minor": 0
      },
      "text/plain": [
       "VBox(children=(HBox(children=(Button(description='Test Local Keyword', style=ButtonStyle()),)), Output()))"
      ]
     },
     "metadata": {},
     "output_type": "display_data"
    }
   ],
   "source": [
    "*** Keywords ***\n",
    "Test Local Keyword\n",
    "    Seleccionar Sucursal"
   ]
  }
 ],
 "metadata": {
  "kernelspec": {
   "display_name": "RobotFramework (XRobot)",
   "language": "robotframework",
   "name": "xrobot"
  },
  "language_info": {
   "codemirror_mode": "robotframework",
   "file_extension": ".robot",
   "mimetype": "text/x-robotframework",
   "name": "robotframework",
   "pygments_lexer": "robotframework",
   "version": "3.2"
  }
 },
 "nbformat": 4,
 "nbformat_minor": 5
}
